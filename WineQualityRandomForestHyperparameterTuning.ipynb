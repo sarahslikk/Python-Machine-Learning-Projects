{
 "cells": [
  {
   "cell_type": "markdown",
   "id": "13f89c2c",
   "metadata": {},
   "source": [
    "## Test Amazon Rekognition Model Using Custom Labels to Detect Classified Images\n",
    "## DATA 460, Advanced Data Science\n",
    "## University of Maryland Global Campus (UMGC)"
   ]
  },
  {
   "cell_type": "markdown",
   "id": "4a3497b2",
   "metadata": {},
   "source": [
    "### We will use the Boto3 python package that is maintained and published by [Amazon Web Services](https://aws.amazon.com/what-is-aws/).\n",
    "Boto3 is the Amazon Web Services (AWS) Software Development Kit (SDK) for Python, which allows Python developers to write software that makes use of services like Amazon S3 and Amazon EC2. You can find the latest, most up to date, documentation at [AWS doc site](https://boto3.amazonaws.com/v1/documentation/api/latest/index.html), including a list of services that are supported."
   ]
  },
  {
   "cell_type": "code",
   "execution_count": null,
   "id": "f2a9241a",
   "metadata": {},
   "outputs": [],
   "source": [
    "import boto3\n",
    "\n",
    "# The boto3 Amazon Rekognition client is created first \n",
    "client = boto3.client('rekognition')\n",
    "\n",
    "# A reference to the AWS Rekognition model ARN is then established.\n",
    "# IMPORTANT: Replace the placeholder 'REKOGNITION_MODEL_ARN' with your model name.\n",
    "rekognitionmodelarn = '{REKOGNITION_MODEL_ARN}'\n",
    "\n",
    "# The detect_custom_labels function is called on the boto3 client and \n",
    "#     passing the model ARN and the S3 bucket that holds the test image(s).\n",
    "response = client.detect_custom_labels(ProjectVersionArn=rekognitionmodelarn, \n",
    "                                       Image={'S3Object': {'Bucket': 'data-460-test-images-ldave',\n",
    "                                                           'Name': 'test1.jpg'} })\n",
    "   \n",
    "#The response is then parsed to get the label name and confidence on the image passed for testing.\n",
    "for image in response['CustomLabels']:\n",
    "    print(image['Name'])\n",
    "    print(image['Confidence'])\n",
    "\n",
    "\n",
    "# Repeat the process for the second test image\n",
    "response = client.detect_custom_labels(ProjectVersionArn=rekognitionmodelarn, \n",
    "                                       Image={'S3Object': {'Bucket': 'data-460-test-images-ldave',\n",
    "                                                           'Name': 'test2.jpg'} })\n",
    "   \n",
    "for image in response['CustomLabels']:\n",
    "    print(image['Name'])\n",
    "    print(image['Confidence'])\n",
    "\n",
    "\n",
    "# Repeat the process for the third test image\n",
    "response = client.detect_custom_labels(ProjectVersionArn=rekognitionmodelarn, \n",
    "                                       Image={'S3Object': {'Bucket': 'data-460-test-images-ldave',\n",
    "                                                           'Name': 'test3.jpg'} })\n",
    "   \n",
    "for image in response['CustomLabels']:\n",
    "    print(image['Name'])\n",
    "    print(image['Confidence'])\n",
    "\n",
    "\n",
    "# Repeat the process for the fourth and the last test image\n",
    "response = client.detect_custom_labels(ProjectVersionArn=rekognitionmodelarn, \n",
    "                                       Image={'S3Object': {'Bucket': 'data-460-test-images-ldave',\n",
    "                                                           'Name': 'test4.jpg'} })\n",
    "   \n",
    "for image in response['CustomLabels']:\n",
    "    print(image['Name'])\n",
    "    print(image['Confidence'])"
   ]
  }
 ],
 "metadata": {
  "kernelspec": {
   "display_name": "Python 3 (ipykernel)",
   "language": "python",
   "name": "python3"
  },
  "language_info": {
   "codemirror_mode": {
    "name": "ipython",
    "version": 3
   },
   "file_extension": ".py",
   "mimetype": "text/x-python",
   "name": "python",
   "nbconvert_exporter": "python",
   "pygments_lexer": "ipython3",
   "version": "3.11.5"
  }
 },
 "nbformat": 4,
 "nbformat_minor": 5
}
